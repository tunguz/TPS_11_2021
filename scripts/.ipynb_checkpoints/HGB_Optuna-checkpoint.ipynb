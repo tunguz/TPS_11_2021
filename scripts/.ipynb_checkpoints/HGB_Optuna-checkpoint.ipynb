{
 "cells": [
  {
   "cell_type": "code",
   "execution_count": 1,
   "metadata": {},
   "outputs": [],
   "source": [
    "import numpy as np\n",
    "import pandas as pd\n",
    "from sklearn.experimental import enable_hist_gradient_boosting\n",
    "from sklearn.ensemble import HistGradientBoostingClassifier\n",
    "from sklearn.model_selection import KFold, train_test_split\n",
    "from sklearn.metrics import roc_auc_score\n",
    "from sklearn.preprocessing import StandardScaler\n",
    "import optuna\n",
    "import gc"
   ]
  },
  {
   "cell_type": "code",
   "execution_count": 3,
   "metadata": {},
   "outputs": [
    {
     "name": "stdout",
     "output_type": "stream",
     "text": [
      "../input/sample_submission.csv\n",
      "../input/train.csv\n",
      "../input/test.csv\n"
     ]
    }
   ],
   "source": [
    "import os\n",
    "for dirname, _, filenames in os.walk('../input'):\n",
    "    for filename in filenames:\n",
    "        print(os.path.join(dirname, filename))"
   ]
  },
  {
   "cell_type": "code",
   "execution_count": 5,
   "metadata": {},
   "outputs": [],
   "source": [
    "train = pd.read_csv('../input/train.csv')\n"
   ]
  },
  {
   "cell_type": "code",
   "execution_count": 7,
   "metadata": {},
   "outputs": [],
   "source": [
    "columns = train.columns[1:-1]\n",
    "target = train['target'].values"
   ]
  },
  {
   "cell_type": "code",
   "execution_count": 8,
   "metadata": {},
   "outputs": [],
   "source": [
    "data = train[columns]\n"
   ]
  },
  {
   "cell_type": "code",
   "execution_count": 9,
   "metadata": {},
   "outputs": [],
   "source": [
    "def objective(trial,data=data,target=target):\n",
    "    \n",
    "    \n",
    "    train_x, test_x, train_y, test_y = train_test_split(data, target, test_size=0.2,random_state=42)\n",
    "    params = {\n",
    "        'l2_regularization': trial.suggest_loguniform('l2_regularization',1e-10,10.0),\n",
    "        'early_stopping': trial.suggest_categorical('early_stopping', ['False']),\n",
    "        'learning_rate': trial.suggest_loguniform('learning_rate', 0.001,0.1),\n",
    "        'max_iter': trial.suggest_categorical('max_iter', [1000]),\n",
    "        'max_depth': trial.suggest_int('max_depth', 2,30),\n",
    "        'max_bins': trial.suggest_int('max_bins', 100,255),\n",
    "        'min_samples_leaf': trial.suggest_int('min_samples_leaf', 20,100000),\n",
    "        'max_leaf_nodes': trial.suggest_int('max_leaf_nodes', 20,80),\n",
    "    }\n",
    "\n",
    "    model = HistGradientBoostingClassifier(**params)\n",
    "    model.fit(train_x, train_y)\n",
    "    predictions = model.predict_proba(test_x)[:,1]\n",
    "    auc = roc_auc_score(test_y, predictions)\n",
    "    \n",
    "    return auc"
   ]
  },
  {
   "cell_type": "code",
   "execution_count": 10,
   "metadata": {},
   "outputs": [
    {
     "name": "stderr",
     "output_type": "stream",
     "text": [
      "\u001b[32m[I 2021-11-23 09:15:10,645]\u001b[0m A new study created in memory with name: no-name-d12f9dec-d651-433f-b58e-8ebc36164ad2\u001b[0m\n",
      "\u001b[32m[I 2021-11-23 09:16:10,773]\u001b[0m Trial 0 finished with value: 0.7255587331644143 and parameters: {'l2_regularization': 5.006988926584862e-06, 'early_stopping': 'False', 'learning_rate': 0.018942847307460108, 'max_iter': 1000, 'max_depth': 10, 'max_bins': 212, 'min_samples_leaf': 76242, 'max_leaf_nodes': 24}. Best is trial 0 with value: 0.7255587331644143.\u001b[0m\n",
      "\u001b[32m[I 2021-11-23 09:17:34,662]\u001b[0m Trial 1 finished with value: 0.7276100687662733 and parameters: {'l2_regularization': 9.264791813631477e-10, 'early_stopping': 'False', 'learning_rate': 0.009115259000632236, 'max_iter': 1000, 'max_depth': 25, 'max_bins': 124, 'min_samples_leaf': 20808, 'max_leaf_nodes': 80}. Best is trial 1 with value: 0.7276100687662733.\u001b[0m\n"
     ]
    },
    {
     "name": "stdout",
     "output_type": "stream",
     "text": [
      "Number of finished trials: 2\n",
      "Best trial: {'l2_regularization': 9.264791813631477e-10, 'early_stopping': 'False', 'learning_rate': 0.009115259000632236, 'max_iter': 1000, 'max_depth': 25, 'max_bins': 124, 'min_samples_leaf': 20808, 'max_leaf_nodes': 80}\n",
      "CPU times: user 13min 24s, sys: 1.76 s, total: 13min 26s\n",
      "Wall time: 2min 24s\n"
     ]
    }
   ],
   "source": [
    "%%time\n",
    "study = optuna.create_study(direction='maximize')\n",
    "study.optimize(objective, n_trials=2)\n",
    "print('Number of finished trials:', len(study.trials))\n",
    "print('Best trial:', study.best_trial.params)"
   ]
  },
  {
   "cell_type": "code",
   "execution_count": 11,
   "metadata": {},
   "outputs": [
    {
     "data": {
      "text/plain": [
       "{'l2_regularization': 9.264791813631477e-10,\n",
       " 'early_stopping': 'False',\n",
       " 'learning_rate': 0.009115259000632236,\n",
       " 'max_iter': 1000,\n",
       " 'max_depth': 25,\n",
       " 'max_bins': 124,\n",
       " 'min_samples_leaf': 20808,\n",
       " 'max_leaf_nodes': 80}"
      ]
     },
     "execution_count": 11,
     "metadata": {},
     "output_type": "execute_result"
    }
   ],
   "source": [
    "study.best_trial.params"
   ]
  },
  {
   "cell_type": "code",
   "execution_count": null,
   "metadata": {},
   "outputs": [],
   "source": []
  }
 ],
 "metadata": {
  "kernelspec": {
   "display_name": "Python 3",
   "language": "python",
   "name": "python3"
  },
  "language_info": {
   "codemirror_mode": {
    "name": "ipython",
    "version": 3
   },
   "file_extension": ".py",
   "mimetype": "text/x-python",
   "name": "python",
   "nbconvert_exporter": "python",
   "pygments_lexer": "ipython3",
   "version": "3.6.9"
  }
 },
 "nbformat": 4,
 "nbformat_minor": 2
}
