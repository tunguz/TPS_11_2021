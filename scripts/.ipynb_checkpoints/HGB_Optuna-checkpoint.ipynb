{
 "cells": [
  {
   "cell_type": "code",
   "execution_count": 1,
   "metadata": {},
   "outputs": [
    {
     "name": "stderr",
     "output_type": "stream",
     "text": [
      "/home/tunguz/.local/lib/python3.8/site-packages/sklearn/experimental/enable_hist_gradient_boosting.py:16: UserWarning: Since version 1.0, it is not needed to import enable_hist_gradient_boosting anymore. HistGradientBoostingClassifier and HistGradientBoostingRegressor are now stable and can be normally imported from sklearn.ensemble.\n",
      "  warnings.warn(\n",
      "/home/tunguz/.local/lib/python3.8/site-packages/tqdm/auto.py:22: TqdmWarning: IProgress not found. Please update jupyter and ipywidgets. See https://ipywidgets.readthedocs.io/en/stable/user_install.html\n",
      "  from .autonotebook import tqdm as notebook_tqdm\n"
     ]
    }
   ],
   "source": [
    "import numpy as np\n",
    "import pandas as pd\n",
    "from sklearn.experimental import enable_hist_gradient_boosting\n",
    "from sklearn.ensemble import HistGradientBoostingClassifier\n",
    "from sklearn.model_selection import KFold, train_test_split\n",
    "from sklearn.metrics import roc_auc_score\n",
    "from sklearn.preprocessing import StandardScaler\n",
    "import optuna\n",
    "import gc"
   ]
  },
  {
   "cell_type": "code",
   "execution_count": 2,
   "metadata": {},
   "outputs": [],
   "source": [
    "import os\n",
    "for dirname, _, filenames in os.walk('../input'):\n",
    "    for filename in filenames:\n",
    "        print(os.path.join(dirname, filename))"
   ]
  },
  {
   "cell_type": "code",
   "execution_count": 3,
   "metadata": {},
   "outputs": [],
   "source": [
    "train = pd.read_csv('../../TPS_2021/input/tabular-playground-series-nov-2021/train.csv')\n"
   ]
  },
  {
   "cell_type": "code",
   "execution_count": 4,
   "metadata": {},
   "outputs": [],
   "source": [
    "columns = train.columns[1:-1]\n",
    "target = train['target'].values"
   ]
  },
  {
   "cell_type": "code",
   "execution_count": 5,
   "metadata": {},
   "outputs": [],
   "source": [
    "data = train[columns]\n"
   ]
  },
  {
   "cell_type": "code",
   "execution_count": 6,
   "metadata": {},
   "outputs": [],
   "source": [
    "def objective(trial,data=data,target=target):\n",
    "    \n",
    "    \n",
    "    train_x, test_x, train_y, test_y = train_test_split(data, target, test_size=0.2,random_state=42)\n",
    "    params = {\n",
    "        'l2_regularization': trial.suggest_loguniform('l2_regularization',1e-10,10.0),\n",
    "        'early_stopping': trial.suggest_categorical('early_stopping', ['False']),\n",
    "        'learning_rate': trial.suggest_loguniform('learning_rate', 0.001,0.1),\n",
    "        'max_iter': trial.suggest_categorical('max_iter', [1000]),\n",
    "        'max_depth': trial.suggest_int('max_depth', 2,30),\n",
    "        'max_bins': trial.suggest_int('max_bins', 100,255),\n",
    "        'min_samples_leaf': trial.suggest_int('min_samples_leaf', 20,100000),\n",
    "        'max_leaf_nodes': trial.suggest_int('max_leaf_nodes', 20,80),\n",
    "    }\n",
    "\n",
    "    model = HistGradientBoostingClassifier(**params)\n",
    "    model.fit(train_x, train_y)\n",
    "    predictions = model.predict_proba(test_x)[:,1]\n",
    "    auc = roc_auc_score(test_y, predictions)\n",
    "    \n",
    "    return auc"
   ]
  },
  {
   "cell_type": "code",
   "execution_count": 7,
   "metadata": {},
   "outputs": [
    {
     "name": "stderr",
     "output_type": "stream",
     "text": [
      "\u001b[32m[I 2022-04-20 14:09:00,523]\u001b[0m A new study created in memory with name: no-name-36ee43d9-284b-4f98-b4fc-57f85bdc2d13\u001b[0m\n",
      "\u001b[32m[I 2022-04-20 14:09:59,176]\u001b[0m Trial 0 finished with value: 0.7381471122224359 and parameters: {'l2_regularization': 5.601261885687851e-07, 'early_stopping': 'False', 'learning_rate': 0.009074136201017935, 'max_iter': 1000, 'max_depth': 18, 'max_bins': 222, 'min_samples_leaf': 605, 'max_leaf_nodes': 65}. Best is trial 0 with value: 0.7381471122224359.\u001b[0m\n",
      "\u001b[32m[I 2022-04-20 14:10:30,864]\u001b[0m Trial 1 finished with value: 0.6965191761167373 and parameters: {'l2_regularization': 1.0035623612206752e-10, 'early_stopping': 'False', 'learning_rate': 0.003762088391134226, 'max_iter': 1000, 'max_depth': 23, 'max_bins': 169, 'min_samples_leaf': 42381, 'max_leaf_nodes': 65}. Best is trial 0 with value: 0.7381471122224359.\u001b[0m\n"
     ]
    },
    {
     "name": "stdout",
     "output_type": "stream",
     "text": [
      "Number of finished trials: 2\n",
      "Best trial: {'l2_regularization': 5.601261885687851e-07, 'early_stopping': 'False', 'learning_rate': 0.009074136201017935, 'max_iter': 1000, 'max_depth': 18, 'max_bins': 222, 'min_samples_leaf': 605, 'max_leaf_nodes': 65}\n",
      "CPU times: user 2h 13min 51s, sys: 5.85 s, total: 2h 13min 57s\n",
      "Wall time: 1min 30s\n"
     ]
    }
   ],
   "source": [
    "%%time\n",
    "study = optuna.create_study(direction='maximize')\n",
    "study.optimize(objective, n_trials=2)\n",
    "print('Number of finished trials:', len(study.trials))\n",
    "print('Best trial:', study.best_trial.params)"
   ]
  },
  {
   "cell_type": "code",
   "execution_count": 11,
   "metadata": {},
   "outputs": [
    {
     "data": {
      "text/plain": [
       "{'l2_regularization': 9.264791813631477e-10,\n",
       " 'early_stopping': 'False',\n",
       " 'learning_rate': 0.009115259000632236,\n",
       " 'max_iter': 1000,\n",
       " 'max_depth': 25,\n",
       " 'max_bins': 124,\n",
       " 'min_samples_leaf': 20808,\n",
       " 'max_leaf_nodes': 80}"
      ]
     },
     "execution_count": 11,
     "metadata": {},
     "output_type": "execute_result"
    }
   ],
   "source": [
    "study.best_trial.params"
   ]
  },
  {
   "cell_type": "code",
   "execution_count": 8,
   "metadata": {},
   "outputs": [
    {
     "data": {
      "text/plain": [
       "{'l2_regularization': 5.601261885687851e-07,\n",
       " 'early_stopping': 'False',\n",
       " 'learning_rate': 0.009074136201017935,\n",
       " 'max_iter': 1000,\n",
       " 'max_depth': 18,\n",
       " 'max_bins': 222,\n",
       " 'min_samples_leaf': 605,\n",
       " 'max_leaf_nodes': 65}"
      ]
     },
     "execution_count": 8,
     "metadata": {},
     "output_type": "execute_result"
    }
   ],
   "source": [
    "study.best_trial.params"
   ]
  },
  {
   "cell_type": "code",
   "execution_count": null,
   "metadata": {},
   "outputs": [],
   "source": []
  }
 ],
 "metadata": {
  "kernelspec": {
   "display_name": "Python 3 (ipykernel)",
   "language": "python",
   "name": "python3"
  },
  "language_info": {
   "codemirror_mode": {
    "name": "ipython",
    "version": 3
   },
   "file_extension": ".py",
   "mimetype": "text/x-python",
   "name": "python",
   "nbconvert_exporter": "python",
   "pygments_lexer": "ipython3",
   "version": "3.8.10"
  }
 },
 "nbformat": 4,
 "nbformat_minor": 4
}
